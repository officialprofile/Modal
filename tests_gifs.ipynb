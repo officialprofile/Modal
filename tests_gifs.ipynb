{
 "cells": [
  {
   "cell_type": "code",
   "execution_count": 45,
   "metadata": {},
   "outputs": [],
   "source": [
    "import numpy as np\n",
    "import cv2 as cv\n",
    "from matplotlib import pyplot as plt\n",
    "import copy\n",
    "import glob\n",
    "import imageio\n",
    "from skimage import img_as_ubyte"
   ]
  },
  {
   "cell_type": "code",
   "execution_count": 69,
   "metadata": {},
   "outputs": [],
   "source": [
    "surface = imageio.mimread(\"media/surface.gif\")\n",
    "hidden  = imageio.mimread(\"media/hidden.gif\")"
   ]
  },
  {
   "cell_type": "code",
   "execution_count": 70,
   "metadata": {},
   "outputs": [],
   "source": [
    "def hide_frame(img_off, img_hid):\n",
    "    bufor_off = copy.deepcopy(img_off[:,:,:3])\n",
    "    bufor_hid = np.zeros(img_off[:,:,:3].shape, dtype = int)\n",
    "    bufor_hid[:np.min([bufor_hid.shape[0], img_hid.shape[0]]), :np.min([bufor_hid.shape[1], img_hid.shape[1]]),:3] = copy.deepcopy(img_hid[:np.min([bufor_hid.shape[0], img_hid.shape[0]]), :np.min([bufor_hid.shape[1], img_hid.shape[1]]),:3])\n",
    "    return(bufor_off & 0xf0 | bufor_hid >> 4)\n",
    "    \n",
    "def decypher_frame(img_dec):\n",
    "    return((img_dec & 0xf) << 4)"
   ]
  },
  {
   "cell_type": "code",
   "execution_count": 71,
   "metadata": {},
   "outputs": [
    {
     "name": "stderr",
     "output_type": "stream",
     "text": [
      "/home/amnesia/mambaforge/lib/python3.9/site-packages/skimage/util/dtype.py:541: UserWarning: Downcasting int64 to uint8 without scaling because max value 255 fits in uint8\n",
      "  return _convert(image, np.uint8, force_copy)\n"
     ]
    }
   ],
   "source": [
    "counter = 0\n",
    "encrypt = []\n",
    "for i in range(len(surface)):\n",
    "    if i < len(hidden):\n",
    "        encrypt.append(hide_frame(surface[i], hidden[i]))\n",
    "    else:\n",
    "        encrypt.append(hide_frame(surface[i],  np.zeros(surface[1].shape, dtype = int)))\n",
    "    counter += 1\n",
    "imageio.mimsave('media/encrypted.gif', img_as_ubyte(encrypt),fps=24)"
   ]
  },
  {
   "cell_type": "code",
   "execution_count": 58,
   "metadata": {},
   "outputs": [
    {
     "data": {
      "text/plain": [
       "Array([[[96, 64, 80],\n",
       "        [96, 64, 80],\n",
       "        [80, 64, 80],\n",
       "        ...,\n",
       "        [96, 80, 80],\n",
       "        [80, 64, 64],\n",
       "        [80, 80, 80]],\n",
       "\n",
       "       [[96, 64, 80],\n",
       "        [96, 64, 80],\n",
       "        [96, 64, 80],\n",
       "        ...,\n",
       "        [96, 80, 80],\n",
       "        [80, 64, 64],\n",
       "        [80, 64, 64]],\n",
       "\n",
       "       [[96, 64, 80],\n",
       "        [96, 64, 80],\n",
       "        [80, 64, 80],\n",
       "        ...,\n",
       "        [96, 80, 64],\n",
       "        [80, 64, 64],\n",
       "        [80, 80, 80]],\n",
       "\n",
       "       ...,\n",
       "\n",
       "       [[96, 64, 80],\n",
       "        [96, 64, 80],\n",
       "        [80, 64, 64],\n",
       "        ...,\n",
       "        [80, 64, 64],\n",
       "        [80, 64, 64],\n",
       "        [80, 64, 64]],\n",
       "\n",
       "       [[96, 64, 80],\n",
       "        [80, 64, 80],\n",
       "        [80, 64, 64],\n",
       "        ...,\n",
       "        [80, 64, 64],\n",
       "        [80, 64, 64],\n",
       "        [80, 64, 64]],\n",
       "\n",
       "       [[96, 64, 80],\n",
       "        [96, 64, 80],\n",
       "        [96, 64, 64],\n",
       "        ...,\n",
       "        [80, 64, 64],\n",
       "        [80, 64, 64],\n",
       "        [80, 64, 64]]])"
      ]
     },
     "execution_count": 58,
     "metadata": {},
     "output_type": "execute_result"
    }
   ],
   "source": []
  },
  {
   "cell_type": "code",
   "execution_count": 46,
   "metadata": {},
   "outputs": [
    {
     "name": "stderr",
     "output_type": "stream",
     "text": [
      "/home/amnesia/mambaforge/lib/python3.9/site-packages/skimage/util/dtype.py:541: UserWarning: Downcasting int64 to uint8 without scaling because max value 255 fits in uint8\n",
      "  return _convert(image, np.uint8, force_copy)\n"
     ]
    }
   ],
   "source": [
    "counter = 0\n",
    "encrypted = []\n",
    "for i in range(len(encr)):\n",
    "    encrypted.append(hide_frame(surface[i], hidden[i]))\n",
    "    else:\n",
    "        encrypted.append(hide_frame(surface[i], surface[i]))\n",
    "    counter += 1\n",
    "\n",
    "imageio.mimsave('temp/encrypted.gif', img_as_ubyte(encrypted),fps=30)"
   ]
  }
 ],
 "metadata": {
  "kernelspec": {
   "display_name": "Python 3.9.13 ('base')",
   "language": "python",
   "name": "python3"
  },
  "language_info": {
   "codemirror_mode": {
    "name": "ipython",
    "version": 3
   },
   "file_extension": ".py",
   "mimetype": "text/x-python",
   "name": "python",
   "nbconvert_exporter": "python",
   "pygments_lexer": "ipython3",
   "version": "3.9.13"
  },
  "orig_nbformat": 4,
  "vscode": {
   "interpreter": {
    "hash": "50d7c9260641074568aae4aaa00279198ed1b40be813d9f37a87f2dd157b89ba"
   }
  }
 },
 "nbformat": 4,
 "nbformat_minor": 2
}
